{
 "cells": [
  {
   "cell_type": "markdown",
   "id": "009c50b5",
   "metadata": {},
   "source": [
    "rwtrqwewyetryj"
   ]
  },
  {
   "cell_type": "markdown",
   "id": "f39d585d",
   "metadata": {},
   "source": []
  },
  {
   "cell_type": "markdown",
   "id": "f8798d93",
   "metadata": {},
   "source": [
    "salamt hrt hsrt hsr th"
   ]
  }
 ],
 "metadata": {
  "language_info": {
   "name": "python"
  }
 },
 "nbformat": 4,
 "nbformat_minor": 5
}

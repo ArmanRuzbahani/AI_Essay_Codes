{
 "cells": [
  {
   "cell_type": "markdown",
   "id": "f39d585d",
   "metadata": {},
   "source": []
  },
  {
   "cell_type": "markdown",
   "id": "f8798d93",
   "metadata": {},
   "source": [
    "salam"
   ]
  }
 ],
 "metadata": {
  "language_info": {
   "name": "python"
  }
 },
 "nbformat": 4,
 "nbformat_minor": 5
}

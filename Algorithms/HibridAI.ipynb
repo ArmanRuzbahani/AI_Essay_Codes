{
 "cells": [
  {
   "cell_type": "markdown",
   "id": "496db07b",
   "metadata": {},
   "source": [
    ":\n",
    "\n",
    "🧠 Hybrid AI چیست؟\n",
    "هوش مصنوعی هیبریدی (Hybrid AI) ترکیبی هوشمند از دو یا چند رویکرد مختلف در هوش مصنوعی است — مانند یادگیری ماشین، منطق نمادین، شبکه‌های عصبی، منطق فازی یا دانش انسانی. این الگوریتم‌ها با هدف ترکیب قدرت یادگیری داده‌محور با توانایی استدلال و منطق انسانی طراحی می‌شوند.\n",
    "\n",
    "💡 در واقع، Hybrid AI تلاش می‌کند هم \"یاد بگیرد\" و هم \"فکر کند\" — درست مثل مغز انسان!\n",
    "\n"
   ]
  },
  {
   "cell_type": "markdown",
   "id": "f6c30024",
   "metadata": {},
   "source": [
    "Neuro-Fuzzy Systems (سیستم‌های عصبی-فازی)\n",
    "\n",
    "⚙️ چطور کار می‌کند؟\n",
    "الگوریتم Neuro-Fuzzy ترکیبی از دو سیستم هوشمنده:\n",
    "\n",
    "شبکه عصبی (Neural Network): برای یادگیری از داده‌ها\n",
    "\n",
    "منطق فازی (Fuzzy Logic): برای استدلال تقریبی و شهودی، مثل تفکر انسان\n",
    "\n",
    "این مدل از شبکه عصبی برای تنظیم قوانین فازی استفاده می‌کنه. به عبارتی، شبکه یاد می‌گیره که چطور با مفاهیم مبهم یا غیرقطعی مثل \"کم\"، \"زیاد\"، \"تقریباً مثبت\" برخورد کنه.\n",
    "\n",
    "مثلاً به‌جای این‌که بگه \"دما ۳۰ درجه است، پس گرم است\"، می‌تونه بگه:\n",
    "\"دما تا حدی گرم و کمی خیلی گرم است\" → شبیه مغز ما! 😍\n",
    "\n",
    "🎯 کاربردها:\n",
    "تحلیل احساسات پیچیده و مبهم (مثلاً وقتی یک متن هم مثبت هست هم غمگین)\n",
    "\n",
    "مدل‌سازی سیستم‌های احساسی و ناخودآگاه انسانی\n",
    "\n",
    "کنترل هوشمند در رباتیک (مانند واکنش به محیط نامعلوم)\n",
    "\n",
    "پیش‌بینی رفتار کاربران در شبکه‌های اجتماعی یا مارکتینگ احساسی\n",
    "\n",
    "تصمیم‌گیری در شرایط غیرقطعی (مثلاً وقتی داده‌ها ناقص یا مبهم هستند)\n",
    "\n",
    "پزشکی تشخیصی با در نظر گرفتن علائم گنگ یا غیرشفاف\n",
    "\n"
   ]
  },
  {
   "cell_type": "code",
   "execution_count": null,
   "id": "66bb02b4",
   "metadata": {},
   "outputs": [],
   "source": [
    "pip install scikit-fuzzy\n"
   ]
  },
  {
   "cell_type": "code",
   "execution_count": null,
   "id": "e3d9dc52",
   "metadata": {},
   "outputs": [],
   "source": [
    "import numpy as np\n",
    "import skfuzzy as fuzz\n",
    "from skfuzzy import control as ctrl\n",
    "\n",
    "# تعریف ورودی‌ها\n",
    "positivity = ctrl.Antecedent(np.arange(0, 11, 1), 'positivity')\n",
    "uncertainty = ctrl.Antecedent(np.arange(0, 11, 1), 'uncertainty')\n",
    "\n",
    "# تعریف خروجی\n",
    "emotion_strength = ctrl.Consequent(np.arange(0, 11, 1), 'emotion_strength')\n",
    "\n",
    "# تعریف توابع عضویت فازی برای ورودی‌ها\n",
    "positivity['low'] = fuzz.trimf(positivity.universe, [0, 0, 5])\n",
    "positivity['medium'] = fuzz.trimf(positivity.universe, [2, 5, 8])\n",
    "positivity['high'] = fuzz.trimf(positivity.universe, [5, 10, 10])\n",
    "\n",
    "uncertainty['low'] = fuzz.trimf(uncertainty.universe, [0, 0, 5])\n",
    "uncertainty['high'] = fuzz.trimf(uncertainty.universe, [5, 10, 10])\n",
    "\n",
    "# توابع عضویت برای خروجی\n",
    "emotion_strength['weak'] = fuzz.trimf(emotion_strength.universe, [0, 0, 5])\n",
    "emotion_strength['medium'] = fuzz.trimf(emotion_strength.universe, [3, 5, 7])\n",
    "emotion_strength['strong'] = fuzz.trimf(emotion_strength.universe, [5, 10, 10])\n",
    "\n",
    "# تعریف قوانین فازی\n",
    "rule1 = ctrl.Rule(positivity['high'] & uncertainty['low'], emotion_strength['strong'])\n",
    "rule2 = ctrl.Rule(positivity['medium'] & uncertainty['high'], emotion_strength['medium'])\n",
    "rule3 = ctrl.Rule(positivity['low'] & uncertainty['high'], emotion_strength['weak'])\n",
    "\n",
    "# ساخت سیستم کنترل\n",
    "emotion_ctrl = ctrl.ControlSystem([rule1, rule2, rule3])\n",
    "emotion = ctrl.ControlSystemSimulation(emotion_ctrl)\n",
    "\n",
    "# ورودی نمونه: جمله‌ای که کمی مثبت ولی پر از تردیده\n",
    "emotion.input['positivity'] = 5  # متوسط\n",
    "emotion.input['uncertainty'] = 7  # تردید زیاد\n",
    "\n",
    "# پردازش\n",
    "emotion.compute()\n",
    "\n",
    "# نمایش خروجی\n",
    "print(f\"🌀 قدرت احساس ناخودآگاه تشخیص‌داده‌شده: {emotion.output['emotion_strength']:.2f}/10\")\n"
   ]
  }
 ],
 "metadata": {
  "kernelspec": {
   "display_name": "Python 3",
   "language": "python",
   "name": "python3"
  },
  "language_info": {
   "name": "python",
   "version": "3.13.0"
  }
 },
 "nbformat": 4,
 "nbformat_minor": 5
}

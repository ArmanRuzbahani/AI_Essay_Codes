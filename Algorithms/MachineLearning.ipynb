{
 "cells": [
  {
   "cell_type": "code",
   "execution_count": null,
   "metadata": {},
   "outputs": [],
   "source": [
    "class SnakeGame:\n",
    "    def __init__(self):\n",
    "        self.screen = pygame.display.set_mode((WINDOW_WIDTH, WINDOW_HEIGHT))\n",
    "        pygame.display.set_caption(\"Snake Game\")\n",
    "        self.clock = pygame.time.Clock()\n",
    "        self.font = pygame.font.SysFont(\"arial\", 24)\n",
    "        self.reset_game()\n",
    "\n",
    "    def reset_game(self):\n",
    "        self.snake = [(GRID_WIDTH // 2, GRID_HEIGHT // 2)]\n",
    "        self.direction = RIGHT\n",
    "        self.food = self.spawn_food()\n",
    "        self.score = 0\n",
    "        self.game_over = False\n",
    "        self.paused = False"
   ]
  }
 ],
 "metadata": {
  "language_info": {
   "name": "python"
  }
 },
 "nbformat": 4,
 "nbformat_minor": 2
}

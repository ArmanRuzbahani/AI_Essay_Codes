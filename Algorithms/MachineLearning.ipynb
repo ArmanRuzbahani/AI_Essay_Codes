{
 "cells": [
  {
   "cell_type": "markdown",
   "metadata": {},
   "source": [
    "🤖 الگوریتم ماشین بردار پشتیبان (Support Vector Machine - SVM)\n",
    "الگوریتم ماشین بردار پشتیبان یکی از محبوب‌ترین روش‌ها در یادگیری ماشین هست، مخصوصاً برای مسائل طبقه‌بندی (Classification) و گاهی هم رگرسیون (Regression).\n",
    "\n",
    "هدف اصلی SVM اینه که بین داده‌ها یک خط جداکننده (در حالت دو بعدی) یا ابرصفحه (Hyperplane) پیدا کنه که بیشترین فاصله رو از نزدیک‌ترین نقاط هر کلاس داشته باشه. این نقاط خاص که به مرز خیلی نزدیکن، بهشون می‌گیم:\n",
    "✨ Support Vectors\n",
    "\n"
   ]
  },
  {
   "cell_type": "code",
   "execution_count": null,
   "metadata": {},
   "outputs": [],
   "source": [
    "#کتابخانه های مورد نیاز\n",
    "from sklearn import datasets\n",
    "from sklearn.model_selection import train_test_split\n",
    "from sklearn.svm import SVC\n",
    "from sklearn.metrics import classification_report\n"
   ]
  },
  {
   "cell_type": "code",
   "execution_count": null,
   "metadata": {},
   "outputs": [],
   "source": [
    "# مرحله ۱: بارگذاری دیتاست Iris\n",
    "from sklearn import datasets\n",
    "X, y = datasets.load_iris(return_X_y=True)\n",
    "\n",
    "# مرحله ۲: تقسیم داده‌ها به آموزش و تست\n",
    "from sklearn.model_selection import train_test_split\n",
    "X_train, X_test, y_train, y_test = train_test_split(X, y, test_size=0.2)\n",
    "\n",
    "# مرحله ۳: ساخت مدل SVM\n",
    "from sklearn.svm import SVC\n",
    "model = SVC(kernel='linear')\n",
    "\n",
    "# مرحله ۴: آموزش مدل\n",
    "model.fit(X_train, y_train)\n",
    "\n",
    "# مرحله ۵: پیش‌بینی و ارزیابی\n",
    "from sklearn.metrics import accuracy_score\n",
    "y_pred = model.predict(X_test)\n",
    "print(\"Accuracy:\", accuracy_score(y_test, y_pred))"
   ]
  }
 ],
 "metadata": {
  "language_info": {
   "name": "python"
  }
 },
 "nbformat": 4,
 "nbformat_minor": 2
}
